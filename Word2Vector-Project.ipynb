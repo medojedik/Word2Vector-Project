{
 "cells": [
  {
   "cell_type": "markdown",
   "id": "strange-freedom",
   "metadata": {},
   "source": [
    "### Importování dat"
   ]
  },
  {
   "cell_type": "code",
   "execution_count": 2,
   "id": "distributed-tyler",
   "metadata": {},
   "outputs": [
    {
     "data": {
      "text/html": [
       "<div>\n",
       "<style scoped>\n",
       "    .dataframe tbody tr th:only-of-type {\n",
       "        vertical-align: middle;\n",
       "    }\n",
       "\n",
       "    .dataframe tbody tr th {\n",
       "        vertical-align: top;\n",
       "    }\n",
       "\n",
       "    .dataframe thead th {\n",
       "        text-align: right;\n",
       "    }\n",
       "</style>\n",
       "<table border=\"1\" class=\"dataframe\">\n",
       "  <thead>\n",
       "    <tr style=\"text-align: right;\">\n",
       "      <th></th>\n",
       "      <th>Line</th>\n",
       "    </tr>\n",
       "  </thead>\n",
       "  <tbody>\n",
       "    <tr>\n",
       "      <th>19816</th>\n",
       "      <td>pan,poslanec,mikuláš,ferjenčík,faktickou,pozná...</td>\n",
       "    </tr>\n",
       "    <tr>\n",
       "      <th>19817</th>\n",
       "      <td>já,se,také,pokusím,vystoupit,naposledy,každopá...</td>\n",
       "    </tr>\n",
       "    <tr>\n",
       "      <th>19818</th>\n",
       "      <td>pan,předseda,kalousek</td>\n",
       "    </tr>\n",
       "    <tr>\n",
       "      <th>19819</th>\n",
       "      <td>rámci,konsenzuální,diskuse,navrhuji,kompromis,...</td>\n",
       "    </tr>\n",
       "    <tr>\n",
       "      <th>19820</th>\n",
       "      <td>tuto,chvíli,nemám,nikoho,přihlášeného,do,obecn...</td>\n",
       "    </tr>\n",
       "  </tbody>\n",
       "</table>\n",
       "</div>"
      ],
      "text/plain": [
       "                                                    Line\n",
       "19816  pan,poslanec,mikuláš,ferjenčík,faktickou,pozná...\n",
       "19817  já,se,také,pokusím,vystoupit,naposledy,každopá...\n",
       "19818                              pan,předseda,kalousek\n",
       "19819  rámci,konsenzuální,diskuse,navrhuji,kompromis,...\n",
       "19820  tuto,chvíli,nemám,nikoho,přihlášeného,do,obecn..."
      ]
     },
     "execution_count": 2,
     "metadata": {},
     "output_type": "execute_result"
    }
   ],
   "source": [
    "import pandas as pd\n",
    "\n",
    "df = pd.read_csv('psp_records_list.csv')\n",
    "df.tail()"
   ]
  },
  {
   "cell_type": "markdown",
   "id": "attached-drilling",
   "metadata": {},
   "source": [
    "### Zbavení se diakritky a změnění písmen na malé"
   ]
  },
  {
   "cell_type": "code",
   "execution_count": 3,
   "id": "measured-poison",
   "metadata": {},
   "outputs": [],
   "source": [
    "def lower_text(df):\n",
    "    for index in range(df.size):\n",
    "        df.values[index][0] = df.values[index][0].lower()\n",
    "        \n",
    "df_lower = lower_text(df)"
   ]
  },
  {
   "cell_type": "code",
   "execution_count": 4,
   "id": "oriental-letters",
   "metadata": {},
   "outputs": [],
   "source": [
    "import unicodedata\n",
    "\n",
    "def deaccent(unistr):\n",
    "    return \"\".join(aChar \n",
    "                   for aChar in unicodedata.normalize(\"NFD\", unistr) \n",
    "                   if not unicodedata.combining(aChar))\n",
    "\n",
    "for i in range(df.size):\n",
    "    df.iloc[i,0] = deaccent(df.iloc[i,0])"
   ]
  },
  {
   "cell_type": "markdown",
   "id": "expired-maple",
   "metadata": {},
   "source": [
    "### Listy vět sestavené z jednotlivých slov"
   ]
  },
  {
   "cell_type": "code",
   "execution_count": 5,
   "id": "inappropriate-input",
   "metadata": {},
   "outputs": [],
   "source": [
    "def get_sentences(df):\n",
    "    df_values = df.values.tolist()\n",
    "    all_sentences = []\n",
    "    for index in range(df.size):\n",
    "        all_sentences.append(df_values[index][0].split(',')) \n",
    "    return all_sentences\n",
    "\n",
    "all_sentences = get_sentences(df)"
   ]
  },
  {
   "cell_type": "markdown",
   "id": "tamil-oriental",
   "metadata": {},
   "source": [
    "### Nalezení a zbavení se nejfrekventovanějších slov, nemající velký význam"
   ]
  },
  {
   "cell_type": "code",
   "execution_count": 25,
   "id": "undefined-argument",
   "metadata": {},
   "outputs": [],
   "source": [
    "from nltk.probability import FreqDist\n",
    "\n",
    "fdist = FreqDist()\n",
    "for i in range(df.size):\n",
    "    for j in range(len(all_sentences[i])):\n",
    "        fdist[all_sentences[i][j]] += 1"
   ]
  },
  {
   "cell_type": "code",
   "execution_count": 29,
   "id": "undefined-ratio",
   "metadata": {},
   "outputs": [],
   "source": [
    "most_common = []\n",
    "for i in range(41):\n",
    "    most_common.append(fdist.most_common()[i][0])"
   ]
  },
  {
   "cell_type": "code",
   "execution_count": 34,
   "id": "logical-string",
   "metadata": {},
   "outputs": [],
   "source": [
    "# adding more stopwords in most_common list\n",
    "\n",
    "words_to_add = ['tedy', 'bych', 'tomu', 'kdo', \n",
    "                'toho', 'tam', 'byl', 'jeste', 'proti',\n",
    "                'kdyz', 'ta', 'tim', 'my', 'pokud', 'ktera',\n",
    "                'take', 'bylo', 'od', 'tech', 'ma', 'jenom',\n",
    "                'byt', 'mate', 'kteri', 'tento', 'tu',\n",
    "                'budeme', 'ted', 'po', 'vam',\n",
    "                'jestli', 'vas', 'byla', 'kdy', 'te',\n",
    "                'podle', 'mame', 'nas', 'abychom', 'teto',\n",
    "                'jejich']\n",
    "\n",
    "most_common += words_to_add"
   ]
  },
  {
   "cell_type": "code",
   "execution_count": 32,
   "id": "corrected-professor",
   "metadata": {},
   "outputs": [],
   "source": [
    "def remove_common_words(all_sentences):\n",
    "    for word in most_common:\n",
    "        for index in range(df.size):\n",
    "            while word in all_sentences[index]:\n",
    "                all_sentences[index].remove(word)\n",
    "                \n",
    "remove_common_words(all_sentences)"
   ]
  },
  {
   "cell_type": "markdown",
   "id": "global-extraction",
   "metadata": {},
   "source": [
    "# Word2Vec - knihovna gensim"
   ]
  },
  {
   "cell_type": "code",
   "execution_count": 35,
   "id": "prime-velvet",
   "metadata": {},
   "outputs": [],
   "source": [
    "from gensim.models import Word2Vec\n",
    "\n",
    "word2vec = Word2Vec(all_sentences, size=200, min_count=5, window=10)"
   ]
  },
  {
   "cell_type": "code",
   "execution_count": 36,
   "id": "affiliated-luther",
   "metadata": {},
   "outputs": [],
   "source": [
    "vocabulary = word2vec.wv.vocab"
   ]
  },
  {
   "cell_type": "markdown",
   "id": "underlying-baltimore",
   "metadata": {},
   "source": [
    "### Slovo reprezentováno jako vektor"
   ]
  },
  {
   "cell_type": "code",
   "execution_count": 37,
   "id": "sustained-function",
   "metadata": {},
   "outputs": [
    {
     "data": {
      "text/plain": [
       "array([-0.00598075,  0.11503159, -0.06782123, -0.11009414,  0.00785042,\n",
       "        0.07232863,  0.00392036, -0.04616841,  0.10157858, -0.14617252,\n",
       "        0.02668748,  0.04319647, -0.15760352,  0.20529316,  0.02238465,\n",
       "       -0.11309972,  0.10021774, -0.02503912,  0.00708629,  0.15442766,\n",
       "       -0.02742318, -0.21829085, -0.05150516, -0.15630211,  0.0366746 ,\n",
       "        0.18000321,  0.03010106,  0.11410537,  0.04421768,  0.2519884 ,\n",
       "        0.08120463,  0.02799019,  0.13207571,  0.21930207, -0.03714715,\n",
       "        0.10842385,  0.16728865, -0.15013503,  0.01116903, -0.05705654,\n",
       "        0.03296358,  0.14358777,  0.2152675 , -0.08954191,  0.02832232,\n",
       "        0.08039251, -0.06847469,  0.03791984, -0.39408553,  0.28117216,\n",
       "       -0.02397783,  0.02365965, -0.10647084, -0.15061706, -0.01724453,\n",
       "       -0.03471172, -0.24066004,  0.15469134, -0.02351044,  0.11742493,\n",
       "       -0.02309477, -0.27808437,  0.15185785,  0.17496651,  0.21515678,\n",
       "       -0.06565751, -0.00236587,  0.00980185,  0.1406214 ,  0.16322447,\n",
       "        0.02584966, -0.05059594,  0.09918983,  0.1087044 ,  0.0773138 ,\n",
       "       -0.07257447,  0.20795555,  0.06582975, -0.01135877, -0.16998093,\n",
       "        0.07353868, -0.02771085, -0.05090045,  0.0712815 , -0.14665022,\n",
       "        0.1020989 ,  0.03328469,  0.15426217, -0.12350054,  0.2865448 ,\n",
       "       -0.01383125,  0.30619156,  0.01535684, -0.02565256, -0.05724949,\n",
       "        0.06903575, -0.02136149,  0.13174514, -0.05014552, -0.06036305,\n",
       "       -0.03898957,  0.15414198, -0.06829672,  0.11408599, -0.00315095,\n",
       "       -0.23665157,  0.03185168, -0.05713119, -0.09509735,  0.14047974,\n",
       "        0.09917825, -0.0799883 ,  0.07590225,  0.10290278,  0.12549117,\n",
       "        0.09014469,  0.08141697,  0.08917176, -0.02259455, -0.1559726 ,\n",
       "       -0.15702549,  0.10854311, -0.03628702, -0.04847144, -0.00981666,\n",
       "       -0.09470437, -0.09352707,  0.04858878,  0.08737277, -0.07584397,\n",
       "        0.02232504, -0.05546737,  0.33953395, -0.15171155,  0.03297091,\n",
       "       -0.14838037, -0.00660519, -0.1967012 , -0.14370783,  0.02357841,\n",
       "        0.13075855,  0.03055932,  0.08327759, -0.18326019, -0.05661464,\n",
       "       -0.11113723, -0.1192584 ,  0.00451764,  0.08507139, -0.09422177,\n",
       "       -0.11503679,  0.22634803, -0.10812256,  0.02697718, -0.13794044,\n",
       "        0.0043967 ,  0.03884085, -0.27543357, -0.00188189,  0.06742056,\n",
       "        0.00834078,  0.06923663, -0.01767549, -0.07156006, -0.1582178 ,\n",
       "        0.12398963,  0.18004201,  0.02921266, -0.12042382, -0.16953517,\n",
       "       -0.13935661,  0.06692676, -0.10498697,  0.10466213,  0.23412988,\n",
       "        0.00399402, -0.14620708,  0.20242256,  0.14984897,  0.10380489,\n",
       "        0.25439578,  0.09828682,  0.06544519, -0.0398226 , -0.11080953,\n",
       "        0.0295074 , -0.03375055, -0.08404853,  0.05106428,  0.02865761,\n",
       "        0.10460448,  0.01781499,  0.04781032,  0.09821168, -0.40559646,\n",
       "        0.03609435, -0.03471707,  0.1324082 ,  0.08125313,  0.11612336],\n",
       "      dtype=float32)"
      ]
     },
     "execution_count": 37,
     "metadata": {},
     "output_type": "execute_result"
    }
   ],
   "source": [
    "word2vec.wv['zeman']"
   ]
  },
  {
   "cell_type": "markdown",
   "id": "missing-malawi",
   "metadata": {},
   "source": [
    "### Nalezení n nejpodobnějších slov"
   ]
  },
  {
   "cell_type": "code",
   "execution_count": 38,
   "id": "understanding-trade",
   "metadata": {},
   "outputs": [
    {
     "name": "stdout",
     "output_type": "stream",
     "text": [
      "> Miloš\n"
     ]
    },
    {
     "data": {
      "text/plain": [
       "[('zeman', 0.9147958755493164),\n",
       " ('byval', 0.8698874711990356),\n",
       " ('dar', 0.8605464696884155),\n",
       " ('nasel', 0.8512917160987854),\n",
       " ('bojovnici', 0.8479036092758179),\n",
       " ('argumentujete', 0.8443666696548462),\n",
       " ('palestincum', 0.8420073986053467),\n",
       " ('nechapete', 0.8375751972198486),\n",
       " ('mily', 0.8353646397590637),\n",
       " ('nelhal', 0.832680344581604)]"
      ]
     },
     "execution_count": 38,
     "metadata": {},
     "output_type": "execute_result"
    }
   ],
   "source": [
    "search_word = input(\"> \")\n",
    "word2vec.wv.most_similar(deaccent(search_word).lower())"
   ]
  },
  {
   "cell_type": "code",
   "execution_count": 39,
   "id": "expected-pickup",
   "metadata": {},
   "outputs": [
    {
     "name": "stdout",
     "output_type": "stream",
     "text": [
      "> Zeman\n"
     ]
    },
    {
     "data": {
      "text/plain": [
       "[('milos', 0.9147959351539612),\n",
       " ('sef', 0.8843529224395752),\n",
       " ('wolf', 0.8726611137390137),\n",
       " ('sobotka', 0.8434608578681946),\n",
       " ('primator', 0.8425475358963013),\n",
       " ('miroslav', 0.8395073413848877),\n",
       " ('vytkl', 0.8383297324180603),\n",
       " ('doktor', 0.8375393748283386),\n",
       " ('dar', 0.8364630341529846),\n",
       " ('postavil', 0.8352385759353638)]"
      ]
     },
     "execution_count": 39,
     "metadata": {},
     "output_type": "execute_result"
    }
   ],
   "source": [
    "search_word = input(\"> \")\n",
    "word2vec.wv.most_similar(deaccent(search_word).lower())"
   ]
  },
  {
   "cell_type": "code",
   "execution_count": 40,
   "id": "strong-shepherd",
   "metadata": {},
   "outputs": [
    {
     "name": "stdout",
     "output_type": "stream",
     "text": [
      "> TOP\n"
     ]
    },
    {
     "data": {
      "text/plain": [
       "[('piratu', 0.9511512517929077),\n",
       " ('ods', 0.9431631565093994),\n",
       " ('stan', 0.9276646971702576),\n",
       " ('kscm', 0.922848641872406),\n",
       " ('poslaneckeho', 0.908523678779602),\n",
       " ('klubu', 0.8991142511367798),\n",
       " ('klub', 0.8968909978866577),\n",
       " ('jmenem', 0.8785552978515625),\n",
       " ('predsedum', 0.8762214183807373),\n",
       " ('lidovcu', 0.8696448802947998)]"
      ]
     },
     "execution_count": 40,
     "metadata": {},
     "output_type": "execute_result"
    }
   ],
   "source": [
    "search_word = input(\"> \")\n",
    "word2vec.wv.most_similar(deaccent(search_word).lower())"
   ]
  },
  {
   "cell_type": "code",
   "execution_count": 41,
   "id": "heavy-waste",
   "metadata": {},
   "outputs": [
    {
     "name": "stdout",
     "output_type": "stream",
     "text": [
      "> ANO\n"
     ]
    },
    {
     "data": {
      "text/plain": [
       "[('hnuti', 0.8012479543685913),\n",
       " ('cssd', 0.7893269062042236),\n",
       " ('jednotni', 0.7253208756446838),\n",
       " ('kscm', 0.696901798248291),\n",
       " ('pravda', 0.6930057406425476),\n",
       " ('komunistu', 0.6881325840950012),\n",
       " ('asocialni', 0.6860584020614624),\n",
       " ('ods', 0.6701514720916748),\n",
       " ('lavic', 0.6480659246444702),\n",
       " ('populista', 0.6322942972183228)]"
      ]
     },
     "execution_count": 41,
     "metadata": {},
     "output_type": "execute_result"
    }
   ],
   "source": [
    "search_word = input(\"> \")\n",
    "word2vec.wv.most_similar(deaccent(search_word).lower())"
   ]
  }
 ],
 "metadata": {
  "kernelspec": {
   "display_name": "Python 3",
   "language": "python",
   "name": "python3"
  },
  "language_info": {
   "codemirror_mode": {
    "name": "ipython",
    "version": 3
   },
   "file_extension": ".py",
   "mimetype": "text/x-python",
   "name": "python",
   "nbconvert_exporter": "python",
   "pygments_lexer": "ipython3",
   "version": "3.8.5"
  }
 },
 "nbformat": 4,
 "nbformat_minor": 5
}
