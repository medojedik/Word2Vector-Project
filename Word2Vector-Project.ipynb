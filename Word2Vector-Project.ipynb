{
 "cells": [
  {
   "cell_type": "markdown",
   "id": "strange-freedom",
   "metadata": {},
   "source": [
    "## Importování dat"
   ]
  },
  {
   "cell_type": "code",
   "execution_count": 1,
   "id": "distributed-tyler",
   "metadata": {},
   "outputs": [
    {
     "data": {
      "text/html": [
       "<div>\n",
       "<style scoped>\n",
       "    .dataframe tbody tr th:only-of-type {\n",
       "        vertical-align: middle;\n",
       "    }\n",
       "\n",
       "    .dataframe tbody tr th {\n",
       "        vertical-align: top;\n",
       "    }\n",
       "\n",
       "    .dataframe thead th {\n",
       "        text-align: right;\n",
       "    }\n",
       "</style>\n",
       "<table border=\"1\" class=\"dataframe\">\n",
       "  <thead>\n",
       "    <tr style=\"text-align: right;\">\n",
       "      <th></th>\n",
       "      <th>Line</th>\n",
       "    </tr>\n",
       "  </thead>\n",
       "  <tbody>\n",
       "    <tr>\n",
       "      <th>0</th>\n",
       "      <td>já,vám,děkuji,dále,se,hlásil,pan,předseda,kalo...</td>\n",
       "    </tr>\n",
       "    <tr>\n",
       "      <th>1</th>\n",
       "      <td>děkuji,dámy,pánové,promiňte,pokládám,za,vhodné...</td>\n",
       "    </tr>\n",
       "    <tr>\n",
       "      <th>2</th>\n",
       "      <td>děkuji,další,pořadí,je,přihlášen,pan,předseda,...</td>\n",
       "    </tr>\n",
       "    <tr>\n",
       "      <th>3</th>\n",
       "      <td>děkuji,za,potlesk,za,slovo,pane,předsedo,hezké...</td>\n",
       "    </tr>\n",
       "    <tr>\n",
       "      <th>4</th>\n",
       "      <td>děkuji,teď,tam,bylo,několik,rychlých,přihlášek...</td>\n",
       "    </tr>\n",
       "  </tbody>\n",
       "</table>\n",
       "</div>"
      ],
      "text/plain": [
       "                                                Line\n",
       "0  já,vám,děkuji,dále,se,hlásil,pan,předseda,kalo...\n",
       "1  děkuji,dámy,pánové,promiňte,pokládám,za,vhodné...\n",
       "2  děkuji,další,pořadí,je,přihlášen,pan,předseda,...\n",
       "3  děkuji,za,potlesk,za,slovo,pane,předsedo,hezké...\n",
       "4  děkuji,teď,tam,bylo,několik,rychlých,přihlášek..."
      ]
     },
     "execution_count": 1,
     "metadata": {},
     "output_type": "execute_result"
    }
   ],
   "source": [
    "import pandas as pd\n",
    "\n",
    "df = pd.read_csv('psp_records_list.csv')\n",
    "df.head()"
   ]
  },
  {
   "cell_type": "markdown",
   "id": "expired-maple",
   "metadata": {},
   "source": [
    "## List slov z jednotlivých vět"
   ]
  },
  {
   "cell_type": "code",
   "execution_count": 2,
   "id": "inappropriate-input",
   "metadata": {},
   "outputs": [],
   "source": [
    "def get_sentences(df):\n",
    "    all_sentences = df.values.tolist()\n",
    "    all_s = []\n",
    "    for index in range(0,df.size-1):\n",
    "        all_s.append(all_sentences[index][0].split(',')) \n",
    "    return all_s\n",
    "\n",
    "all_sentences = get_sentences(df)"
   ]
  },
  {
   "cell_type": "markdown",
   "id": "global-extraction",
   "metadata": {},
   "source": [
    "# Word2Vec - knihovna gensim"
   ]
  },
  {
   "cell_type": "code",
   "execution_count": 3,
   "id": "prime-velvet",
   "metadata": {},
   "outputs": [],
   "source": [
    "from gensim.models import Word2Vec\n",
    "\n",
    "word2vec = Word2Vec(all_sentences, size=200, min_count=5, window=5)"
   ]
  },
  {
   "cell_type": "code",
   "execution_count": 4,
   "id": "affiliated-luther",
   "metadata": {},
   "outputs": [],
   "source": [
    "vocabulary = word2vec.wv.vocab"
   ]
  },
  {
   "cell_type": "code",
   "execution_count": 5,
   "id": "expected-welcome",
   "metadata": {},
   "outputs": [],
   "source": [
    "# vocabulary"
   ]
  },
  {
   "cell_type": "markdown",
   "id": "underlying-baltimore",
   "metadata": {},
   "source": [
    "### Slovo reprezentováno jako vektor"
   ]
  },
  {
   "cell_type": "code",
   "execution_count": 6,
   "id": "sustained-function",
   "metadata": {},
   "outputs": [
    {
     "data": {
      "text/plain": [
       "array([ 0.07083495, -0.00435962, -0.32269856, -0.1310984 , -0.01709548,\n",
       "        0.1615897 ,  0.11909531, -0.11545321,  0.09280141, -0.05714495,\n",
       "        0.08897749, -0.11715011,  0.07236574,  0.207451  ,  0.07263145,\n",
       "        0.06545401, -0.03136566,  0.14267173,  0.00446792, -0.22967213,\n",
       "        0.06259852,  0.17900269,  0.08232449, -0.09663501, -0.04189696,\n",
       "        0.12430716, -0.1798104 , -0.10240746, -0.17015582,  0.30399197,\n",
       "       -0.17231524, -0.13217506, -0.10775406, -0.17694406, -0.06407119,\n",
       "        0.08158035, -0.07295036, -0.0200364 ,  0.05198213,  0.40854537,\n",
       "        0.06835774, -0.04482628,  0.2613029 ,  0.01355543, -0.07758237,\n",
       "        0.00484079, -0.03954591, -0.00204099, -0.11337988,  0.36177713,\n",
       "        0.15953276, -0.05651611,  0.04008675,  0.00731107,  0.08391532,\n",
       "       -0.01515066,  0.08098769,  0.12490702,  0.11266465, -0.05939809,\n",
       "       -0.13992599, -0.2678887 ,  0.19163603,  0.10021845,  0.08377916,\n",
       "       -0.17633672, -0.11565837,  0.19475974,  0.12631452,  0.05061398,\n",
       "       -0.10013217,  0.10693828,  0.05187201,  0.01609309, -0.1330456 ,\n",
       "       -0.1993953 ,  0.01992827,  0.14133973, -0.08359989,  0.04486259,\n",
       "       -0.10120613,  0.11676123,  0.04262608,  0.05285633, -0.17611976,\n",
       "        0.08300067,  0.00855797, -0.05281005, -0.13359565, -0.08415615,\n",
       "       -0.2250012 ,  0.01195117,  0.15768191,  0.01988813,  0.12552252,\n",
       "       -0.12321253,  0.00202883, -0.02708926, -0.1316319 , -0.025525  ,\n",
       "       -0.01001734,  0.14756238, -0.21539271,  0.16251735, -0.25874448,\n",
       "       -0.12335944,  0.3624175 ,  0.03750164,  0.18037821,  0.03575097,\n",
       "       -0.13970643, -0.05712318, -0.02893533, -0.05460462,  0.19252363,\n",
       "        0.3098062 , -0.3631674 ,  0.2994568 , -0.2274029 , -0.09846076,\n",
       "       -0.02929222, -0.12577866, -0.2085216 ,  0.05727845, -0.13492991,\n",
       "        0.10322828, -0.11213481, -0.07850702, -0.28097963, -0.08507561,\n",
       "       -0.1903437 , -0.07106403,  0.35842597, -0.12360768,  0.06373774,\n",
       "       -0.21361922, -0.13641036, -0.24395455,  0.17449553, -0.06831513,\n",
       "       -0.07744046, -0.05508698, -0.09269012, -0.02357328,  0.24495307,\n",
       "        0.00816001,  0.14903428, -0.09013256,  0.15565021,  0.09860198,\n",
       "       -0.0149749 ,  0.04540963,  0.14639181,  0.17297027,  0.14564686,\n",
       "        0.11730592,  0.16026086,  0.05927468,  0.23595737,  0.08288857,\n",
       "        0.09486026, -0.02291976, -0.27891845,  0.02933805,  0.00573618,\n",
       "       -0.13326801, -0.02555952, -0.0083361 , -0.17202096,  0.26020247,\n",
       "       -0.0440735 , -0.03145749, -0.29480147, -0.07389639, -0.08487532,\n",
       "        0.120317  , -0.23680665, -0.1893185 , -0.18563767, -0.04919277,\n",
       "       -0.19918446,  0.03332709, -0.19619878, -0.04413794,  0.1815936 ,\n",
       "        0.05760703,  0.09194848,  0.16508032,  0.149484  , -0.01262529,\n",
       "       -0.1692397 , -0.08213189, -0.01207066, -0.17234156, -0.08699394,\n",
       "        0.01561697,  0.03881956, -0.17991284, -0.1331827 ,  0.327499  ],\n",
       "      dtype=float32)"
      ]
     },
     "execution_count": 6,
     "metadata": {},
     "output_type": "execute_result"
    }
   ],
   "source": [
    "word2vec.wv['zeman']"
   ]
  },
  {
   "cell_type": "markdown",
   "id": "missing-malawi",
   "metadata": {},
   "source": [
    "### Nalezení n nejpodobnějších slov"
   ]
  },
  {
   "cell_type": "code",
   "execution_count": 7,
   "id": "understanding-trade",
   "metadata": {},
   "outputs": [
    {
     "data": {
      "text/plain": [
       "[('miloš', 0.8465221524238586),\n",
       " ('alexander', 0.8450103998184204),\n",
       " ('exministr', 0.8313134908676147),\n",
       " ('miroslav', 0.8260865211486816),\n",
       " ('primátor', 0.8229324817657471),\n",
       " ('šéf', 0.8151835203170776),\n",
       " ('němec', 0.8141154050827026),\n",
       " ('bakala', 0.8139461874961853),\n",
       " ('zbyněk', 0.812218189239502),\n",
       " ('bohuslav', 0.8100194931030273)]"
      ]
     },
     "execution_count": 7,
     "metadata": {},
     "output_type": "execute_result"
    }
   ],
   "source": [
    "word2vec.wv.most_similar('zeman')"
   ]
  },
  {
   "cell_type": "code",
   "execution_count": 8,
   "id": "expected-pickup",
   "metadata": {},
   "outputs": [
    {
     "data": {
      "text/plain": [
       "[('daniel', 0.8544429540634155),\n",
       " ('soudruh', 0.8521327376365662),\n",
       " ('donald', 0.8473612070083618),\n",
       " ('zeman', 0.8465221524238586),\n",
       " ('přemysl', 0.8441921472549438),\n",
       " ('dan', 0.8380204439163208),\n",
       " ('trump', 0.8345924615859985),\n",
       " ('kůň', 0.8252794742584229),\n",
       " ('běloruský', 0.8247685432434082),\n",
       " ('velbloud', 0.8243666887283325)]"
      ]
     },
     "execution_count": 8,
     "metadata": {},
     "output_type": "execute_result"
    }
   ],
   "source": [
    "word2vec.wv.most_similar('miloš')"
   ]
  },
  {
   "cell_type": "code",
   "execution_count": 9,
   "id": "strong-shepherd",
   "metadata": {},
   "outputs": [
    {
     "data": {
      "text/plain": [
       "[('jednotní', 0.6496700048446655),\n",
       " ('spd', 0.6354770660400391),\n",
       " ('protikorupční', 0.6079643964767456),\n",
       " ('ksčm', 0.5955079793930054),\n",
       " ('čssd', 0.584598183631897),\n",
       " ('ods', 0.5597532987594604),\n",
       " ('trikolóra', 0.5470477938652039),\n",
       " ('hnutí', 0.5209935903549194),\n",
       " ('koaliční', 0.5087595582008362),\n",
       " ('klubu', 0.5048577785491943)]"
      ]
     },
     "execution_count": 9,
     "metadata": {},
     "output_type": "execute_result"
    }
   ],
   "source": [
    "word2vec.wv.most_similar('ano')"
   ]
  },
  {
   "cell_type": "code",
   "execution_count": 10,
   "id": "heavy-waste",
   "metadata": {},
   "outputs": [
    {
     "data": {
      "text/plain": [
       "[('ods', 0.911022961139679),\n",
       " ('stan', 0.9066761136054993),\n",
       " ('pirátů', 0.8980012536048889),\n",
       " ('ksčm', 0.8863968849182129),\n",
       " ('čsl', 0.8785603046417236),\n",
       " ('kdu', 0.8719356656074524),\n",
       " ('klubu', 0.8689788579940796),\n",
       " ('poslaneckého', 0.8683313131332397),\n",
       " ('klub', 0.8417835235595703),\n",
       " ('čssd', 0.8376426696777344)]"
      ]
     },
     "execution_count": 10,
     "metadata": {},
     "output_type": "execute_result"
    }
   ],
   "source": [
    "word2vec.wv.most_similar('top')"
   ]
  }
 ],
 "metadata": {
  "kernelspec": {
   "display_name": "Python 3",
   "language": "python",
   "name": "python3"
  },
  "language_info": {
   "codemirror_mode": {
    "name": "ipython",
    "version": 3
   },
   "file_extension": ".py",
   "mimetype": "text/x-python",
   "name": "python",
   "nbconvert_exporter": "python",
   "pygments_lexer": "ipython3",
   "version": "3.8.5"
  }
 },
 "nbformat": 4,
 "nbformat_minor": 5
}
