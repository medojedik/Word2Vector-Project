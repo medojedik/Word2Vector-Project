{
 "cells": [
  {
   "cell_type": "code",
   "execution_count": 1,
   "id": "distributed-tyler",
   "metadata": {},
   "outputs": [
    {
     "data": {
      "text/html": [
       "<div>\n",
       "<style scoped>\n",
       "    .dataframe tbody tr th:only-of-type {\n",
       "        vertical-align: middle;\n",
       "    }\n",
       "\n",
       "    .dataframe tbody tr th {\n",
       "        vertical-align: top;\n",
       "    }\n",
       "\n",
       "    .dataframe thead th {\n",
       "        text-align: right;\n",
       "    }\n",
       "</style>\n",
       "<table border=\"1\" class=\"dataframe\">\n",
       "  <thead>\n",
       "    <tr style=\"text-align: right;\">\n",
       "      <th></th>\n",
       "      <th>Line</th>\n",
       "    </tr>\n",
       "  </thead>\n",
       "  <tbody>\n",
       "    <tr>\n",
       "      <th>0</th>\n",
       "      <td>já,vám,děkuji,dále,se,hlásil,pan,předseda,kalo...</td>\n",
       "    </tr>\n",
       "    <tr>\n",
       "      <th>1</th>\n",
       "      <td>děkuji,dámy,pánové,promiňte,pokládám,za,vhodné...</td>\n",
       "    </tr>\n",
       "    <tr>\n",
       "      <th>2</th>\n",
       "      <td>děkuji,další,pořadí,je,přihlášen,pan,předseda,...</td>\n",
       "    </tr>\n",
       "    <tr>\n",
       "      <th>3</th>\n",
       "      <td>děkuji,za,potlesk,za,slovo,pane,předsedo,hezké...</td>\n",
       "    </tr>\n",
       "    <tr>\n",
       "      <th>4</th>\n",
       "      <td>děkuji,teď,tam,bylo,několik,rychlých,přihlášek...</td>\n",
       "    </tr>\n",
       "  </tbody>\n",
       "</table>\n",
       "</div>"
      ],
      "text/plain": [
       "                                                Line\n",
       "0  já,vám,děkuji,dále,se,hlásil,pan,předseda,kalo...\n",
       "1  děkuji,dámy,pánové,promiňte,pokládám,za,vhodné...\n",
       "2  děkuji,další,pořadí,je,přihlášen,pan,předseda,...\n",
       "3  děkuji,za,potlesk,za,slovo,pane,předsedo,hezké...\n",
       "4  děkuji,teď,tam,bylo,několik,rychlých,přihlášek..."
      ]
     },
     "execution_count": 1,
     "metadata": {},
     "output_type": "execute_result"
    }
   ],
   "source": [
    "import pandas as pd\n",
    "\n",
    "df = pd.read_csv('psp_records_list.csv')\n",
    "df.head()"
   ]
  },
  {
   "cell_type": "code",
   "execution_count": 2,
   "id": "inappropriate-input",
   "metadata": {},
   "outputs": [],
   "source": [
    "def get_sentences(df):\n",
    "    all_sentences = df.values.tolist()\n",
    "    all_s = []\n",
    "    for index in range(0,df.size-1):\n",
    "        all_s.append(all_sentences[index][0].split(',')) \n",
    "    return all_s\n",
    "\n",
    "all_sentences = get_sentences(df)"
   ]
  },
  {
   "cell_type": "code",
   "execution_count": 3,
   "id": "prime-velvet",
   "metadata": {},
   "outputs": [],
   "source": [
    "from gensim.models import Word2Vec\n",
    "\n",
    "word2vec = Word2Vec(all_sentences, size=200, min_count=5, window=5)"
   ]
  },
  {
   "cell_type": "code",
   "execution_count": 4,
   "id": "affiliated-luther",
   "metadata": {},
   "outputs": [],
   "source": [
    "vocabulary = word2vec.wv.vocab"
   ]
  },
  {
   "cell_type": "code",
   "execution_count": 5,
   "id": "expected-welcome",
   "metadata": {},
   "outputs": [],
   "source": [
    "# vocabulary"
   ]
  },
  {
   "cell_type": "code",
   "execution_count": 6,
   "id": "sustained-function",
   "metadata": {},
   "outputs": [
    {
     "data": {
      "text/plain": [
       "array([-8.44220743e-02, -1.21948533e-01, -2.98606664e-01, -1.25766739e-01,\n",
       "       -1.26419082e-01,  6.34935945e-02,  1.70854539e-01,  1.63591355e-01,\n",
       "        2.39210371e-02, -1.38069823e-01, -4.85480390e-02, -7.79617727e-02,\n",
       "        4.00388353e-02,  1.24075621e-01,  9.49489325e-02, -1.23131506e-01,\n",
       "       -3.66356522e-02,  6.02147803e-02, -5.96305467e-02,  2.18633547e-01,\n",
       "        6.05895445e-02, -2.01046038e-02,  3.41163129e-01,  3.70876938e-02,\n",
       "        1.51152343e-01, -8.15698178e-04, -1.54308990e-01, -1.00608259e-01,\n",
       "        2.95369197e-02,  1.34956315e-01, -7.83032775e-02,  2.70099461e-01,\n",
       "        9.13435817e-02, -1.11186787e-01, -5.21384589e-02,  6.00302555e-02,\n",
       "       -5.90349222e-03, -2.79529721e-01, -9.20522436e-02, -9.41905603e-02,\n",
       "       -2.38043189e-01, -1.22544773e-01, -1.93473086e-01, -2.99249087e-02,\n",
       "        8.05236250e-02,  1.27167821e-01,  5.97173013e-02,  1.28526211e-01,\n",
       "        6.33493960e-02,  1.13649383e-01,  5.19659147e-02,  3.67897719e-01,\n",
       "        1.74187034e-01, -6.16624095e-02, -4.10726148e-04, -1.53827727e-01,\n",
       "        2.96536386e-01,  5.69456303e-03,  1.86954707e-01,  3.55143994e-01,\n",
       "        1.21075474e-01,  6.21646494e-02, -4.72977664e-03, -1.50500581e-01,\n",
       "        2.49022588e-01,  2.43190508e-02, -1.10922523e-01,  2.50804991e-01,\n",
       "       -3.70286480e-02,  1.94416195e-01, -1.54945981e-02,  4.94361781e-02,\n",
       "       -3.78704481e-02,  1.02258481e-01, -2.08659843e-01,  1.73518166e-01,\n",
       "        1.63955346e-01, -9.55471769e-02,  1.11614905e-01,  3.15287267e-03,\n",
       "        1.55944481e-01, -2.76169777e-02,  1.79984182e-01, -2.60929856e-02,\n",
       "       -1.27114326e-01, -2.00624496e-01,  2.55608231e-01,  2.99203604e-01,\n",
       "        2.06088781e-01, -7.57820159e-02,  2.37705484e-01, -2.09002867e-01,\n",
       "        9.91359651e-02, -1.23919183e-02,  5.90433702e-02, -3.56387459e-02,\n",
       "       -3.85671417e-04,  1.50727645e-01,  1.84208423e-01, -1.54135421e-01,\n",
       "        3.18736136e-02,  2.49985486e-01, -1.80741876e-01, -3.79165784e-02,\n",
       "        6.79903701e-02, -1.15580216e-01,  2.83019304e-01,  1.10339455e-01,\n",
       "       -1.04380995e-01, -9.77561995e-02,  1.24971561e-01,  4.89346646e-02,\n",
       "        7.32505694e-02, -7.16261342e-02,  4.93154041e-02,  5.34652323e-02,\n",
       "        8.07443187e-02, -1.25737488e-01, -4.74026315e-02,  1.12409435e-01,\n",
       "       -8.55915025e-02,  1.63240179e-01,  1.03629179e-01, -7.86363482e-02,\n",
       "       -3.51003349e-01,  5.02871675e-03,  6.64464831e-02,  5.30335829e-02,\n",
       "       -1.08980104e-01, -1.89063758e-01, -1.35794580e-01, -1.11841433e-01,\n",
       "        2.99675167e-01, -1.31497532e-02, -1.47183225e-01, -1.64082989e-01,\n",
       "        1.90404102e-01, -4.03904229e-01, -1.14733063e-01, -9.50039327e-02,\n",
       "        4.16228659e-02, -3.79796386e-01,  3.14641416e-01,  2.51577854e-01,\n",
       "        8.13192353e-02,  3.73962149e-02,  7.64659867e-02,  5.64610772e-02,\n",
       "       -6.52133897e-02,  1.07855797e-01, -5.47515042e-02,  3.40399542e-03,\n",
       "       -4.60482836e-02, -4.19399738e-02,  9.13106743e-03,  1.10901669e-01,\n",
       "       -2.93752223e-01, -1.11750409e-01, -3.77501026e-02,  3.39786932e-02,\n",
       "       -1.15255691e-01, -2.62690544e-01,  7.69827738e-02, -2.14355260e-01,\n",
       "        7.64637580e-03,  2.03289669e-02, -1.96607206e-02,  1.64751053e-01,\n",
       "        1.79063439e-01, -4.03542258e-02,  8.28919411e-02, -3.36975902e-02,\n",
       "       -3.01179774e-02,  1.77717373e-01,  2.12283939e-01,  9.30965915e-02,\n",
       "        5.90686202e-02, -1.45699427e-01,  7.47247785e-02, -1.15247309e-01,\n",
       "        9.09970049e-03, -9.66089070e-02, -2.55754948e-01, -2.26054247e-02,\n",
       "       -3.22225019e-02, -2.05590814e-01,  2.84588724e-01, -9.48832780e-02,\n",
       "       -5.45616113e-02,  1.44141065e-02,  3.11802775e-01,  1.73148826e-01,\n",
       "        2.84443349e-01, -2.93214858e-01,  1.60967231e-01, -1.06080873e-02,\n",
       "       -2.48869620e-02, -2.28893280e-01, -1.94967926e-01, -1.63835317e-01],\n",
       "      dtype=float32)"
      ]
     },
     "execution_count": 6,
     "metadata": {},
     "output_type": "execute_result"
    }
   ],
   "source": [
    "word2vec.wv['zeman']"
   ]
  },
  {
   "cell_type": "code",
   "execution_count": 7,
   "id": "understanding-trade",
   "metadata": {},
   "outputs": [
    {
     "data": {
      "text/plain": [
       "[('goláň', 0.8637735843658447),\n",
       " ('alexander', 0.8528470993041992),\n",
       " ('zdeněk', 0.8511834740638733),\n",
       " ('schorm', 0.8481686115264893),\n",
       " ('vladimír', 0.8426277041435242),\n",
       " ('křeček', 0.8407764434814453),\n",
       " ('schmarcz', 0.8345588445663452),\n",
       " ('martin', 0.8283754587173462),\n",
       " ('šéf', 0.8276432752609253),\n",
       " ('miroslav', 0.8275161981582642)]"
      ]
     },
     "execution_count": 7,
     "metadata": {},
     "output_type": "execute_result"
    }
   ],
   "source": [
    "word2vec.wv.most_similar('zeman')"
   ]
  },
  {
   "cell_type": "code",
   "execution_count": 9,
   "id": "expected-pickup",
   "metadata": {},
   "outputs": [
    {
     "data": {
      "text/plain": [
       "[('dan', 0.8586929440498352),\n",
       " ('kučera', 0.8521438837051392),\n",
       " ('izraelský', 0.8452770709991455),\n",
       " ('donald', 0.8419553637504578),\n",
       " ('zvolený', 0.8403451442718506),\n",
       " ('trump', 0.839948832988739),\n",
       " ('čínský', 0.8361539244651794),\n",
       " ('ťok', 0.8330644369125366),\n",
       " ('moria', 0.8321471214294434),\n",
       " ('titulek', 0.8319777250289917)]"
      ]
     },
     "execution_count": 9,
     "metadata": {},
     "output_type": "execute_result"
    }
   ],
   "source": [
    "word2vec.wv.most_similar('miloš')"
   ]
  },
  {
   "cell_type": "code",
   "execution_count": 11,
   "id": "strong-shepherd",
   "metadata": {},
   "outputs": [
    {
     "data": {
      "text/plain": [
       "[('protikorupční', 0.6296362280845642),\n",
       " ('čssd', 0.6056424379348755),\n",
       " ('spd', 0.6052049398422241),\n",
       " ('ksčm', 0.5684846639633179),\n",
       " ('ods', 0.5633183717727661),\n",
       " ('jednotní', 0.5552619099617004),\n",
       " ('hnutí', 0.5325677394866943),\n",
       " ('klubu', 0.5063837766647339),\n",
       " ('výborně', 0.5038217306137085),\n",
       " ('pirátů', 0.5019030570983887)]"
      ]
     },
     "execution_count": 11,
     "metadata": {},
     "output_type": "execute_result"
    }
   ],
   "source": [
    "word2vec.wv.most_similar('ano')"
   ]
  },
  {
   "cell_type": "code",
   "execution_count": 12,
   "id": "heavy-waste",
   "metadata": {},
   "outputs": [
    {
     "data": {
      "text/plain": [
       "[('ods', 0.9195677638053894),\n",
       " ('stan', 0.9083242416381836),\n",
       " ('pirátů', 0.8932294845581055),\n",
       " ('ksčm', 0.8857720494270325),\n",
       " ('čsl', 0.8753027319908142),\n",
       " ('čssd', 0.8546755313873291),\n",
       " ('klubu', 0.8542559742927551),\n",
       " ('poslaneckého', 0.841338038444519),\n",
       " ('kdu', 0.840903639793396),\n",
       " ('klub', 0.8353347778320312)]"
      ]
     },
     "execution_count": 12,
     "metadata": {},
     "output_type": "execute_result"
    }
   ],
   "source": [
    "word2vec.wv.most_similar('top')"
   ]
  }
 ],
 "metadata": {
  "kernelspec": {
   "display_name": "Python 3",
   "language": "python",
   "name": "python3"
  },
  "language_info": {
   "codemirror_mode": {
    "name": "ipython",
    "version": 3
   },
   "file_extension": ".py",
   "mimetype": "text/x-python",
   "name": "python",
   "nbconvert_exporter": "python",
   "pygments_lexer": "ipython3",
   "version": "3.8.5"
  }
 },
 "nbformat": 4,
 "nbformat_minor": 5
}
