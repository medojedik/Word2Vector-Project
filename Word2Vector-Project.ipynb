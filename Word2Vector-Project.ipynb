{
 "cells": [
  {
   "cell_type": "markdown",
   "id": "strange-freedom",
   "metadata": {},
   "source": [
    "### Importování dat"
   ]
  },
  {
   "cell_type": "code",
   "execution_count": 1,
   "id": "distributed-tyler",
   "metadata": {},
   "outputs": [
    {
     "data": {
      "text/html": [
       "<div>\n",
       "<style scoped>\n",
       "    .dataframe tbody tr th:only-of-type {\n",
       "        vertical-align: middle;\n",
       "    }\n",
       "\n",
       "    .dataframe tbody tr th {\n",
       "        vertical-align: top;\n",
       "    }\n",
       "\n",
       "    .dataframe thead th {\n",
       "        text-align: right;\n",
       "    }\n",
       "</style>\n",
       "<table border=\"1\" class=\"dataframe\">\n",
       "  <thead>\n",
       "    <tr style=\"text-align: right;\">\n",
       "      <th></th>\n",
       "      <th>Line</th>\n",
       "    </tr>\n",
       "  </thead>\n",
       "  <tbody>\n",
       "    <tr>\n",
       "      <th>19816</th>\n",
       "      <td>pan,poslanec,mikuláš,ferjenčík,faktickou,pozná...</td>\n",
       "    </tr>\n",
       "    <tr>\n",
       "      <th>19817</th>\n",
       "      <td>já,se,také,pokusím,vystoupit,naposledy,každopá...</td>\n",
       "    </tr>\n",
       "    <tr>\n",
       "      <th>19818</th>\n",
       "      <td>pan,předseda,kalousek</td>\n",
       "    </tr>\n",
       "    <tr>\n",
       "      <th>19819</th>\n",
       "      <td>rámci,konsenzuální,diskuse,navrhuji,kompromis,...</td>\n",
       "    </tr>\n",
       "    <tr>\n",
       "      <th>19820</th>\n",
       "      <td>tuto,chvíli,nemám,nikoho,přihlášeného,do,obecn...</td>\n",
       "    </tr>\n",
       "  </tbody>\n",
       "</table>\n",
       "</div>"
      ],
      "text/plain": [
       "                                                    Line\n",
       "19816  pan,poslanec,mikuláš,ferjenčík,faktickou,pozná...\n",
       "19817  já,se,také,pokusím,vystoupit,naposledy,každopá...\n",
       "19818                              pan,předseda,kalousek\n",
       "19819  rámci,konsenzuální,diskuse,navrhuji,kompromis,...\n",
       "19820  tuto,chvíli,nemám,nikoho,přihlášeného,do,obecn..."
      ]
     },
     "execution_count": 1,
     "metadata": {},
     "output_type": "execute_result"
    }
   ],
   "source": [
    "import pandas as pd\n",
    "\n",
    "df = pd.read_csv('psp_records_list.csv')\n",
    "df.tail()"
   ]
  },
  {
   "cell_type": "markdown",
   "id": "attached-drilling",
   "metadata": {},
   "source": [
    "### Zbavení se diakritky a změnění písmen na malé"
   ]
  },
  {
   "cell_type": "code",
   "execution_count": 2,
   "id": "measured-poison",
   "metadata": {},
   "outputs": [],
   "source": [
    "def lower_text(df):\n",
    "    for index in range(df.size):\n",
    "        df.values[index][0] = df.values[index][0].lower()\n",
    "        \n",
    "df_lower = lower_text(df)"
   ]
  },
  {
   "cell_type": "code",
   "execution_count": 3,
   "id": "oriental-letters",
   "metadata": {},
   "outputs": [],
   "source": [
    "import unicodedata\n",
    "\n",
    "def deaccent(unistr):\n",
    "    return \"\".join(aChar \n",
    "                   for aChar in unicodedata.normalize(\"NFD\", unistr) \n",
    "                   if not unicodedata.combining(aChar))\n",
    "\n",
    "for i in range(df.size):\n",
    "    df.iloc[i,0] = deaccent(df.iloc[i,0])"
   ]
  },
  {
   "cell_type": "markdown",
   "id": "expired-maple",
   "metadata": {},
   "source": [
    "### Listy vět sestavené z jednotlivých slov"
   ]
  },
  {
   "cell_type": "code",
   "execution_count": 4,
   "id": "inappropriate-input",
   "metadata": {},
   "outputs": [],
   "source": [
    "def get_sentences(df):\n",
    "    df_values = df.values.tolist()\n",
    "    all_sentences = []\n",
    "    for index in range(df.size):\n",
    "        all_sentences.append(df_values[index][0].split(',')) \n",
    "    return all_sentences\n",
    "\n",
    "all_sentences = get_sentences(df)"
   ]
  },
  {
   "cell_type": "markdown",
   "id": "tamil-oriental",
   "metadata": {},
   "source": [
    "### Nalezení a zbavení se nejfrekventovanějších slov, nemající velký význam"
   ]
  },
  {
   "cell_type": "code",
   "execution_count": 5,
   "id": "undefined-argument",
   "metadata": {},
   "outputs": [],
   "source": [
    "from nltk.probability import FreqDist\n",
    "\n",
    "def frequent(lst):\n",
    "    fdist = FreqDist()\n",
    "    for i in range(len(lst)):\n",
    "        for j in range(len(lst[i])):\n",
    "            fdist[lst[i][j]] += 1\n",
    "    return(fdist)\n",
    "            \n",
    "frequency_bef = frequent(all_sentences)"
   ]
  },
  {
   "cell_type": "code",
   "execution_count": 6,
   "id": "undefined-ratio",
   "metadata": {},
   "outputs": [],
   "source": [
    "most_common = []\n",
    "for i in range(41):\n",
    "    most_common.append(frequency_bef.most_common()[i][0])"
   ]
  },
  {
   "cell_type": "code",
   "execution_count": 8,
   "id": "corrected-professor",
   "metadata": {},
   "outputs": [],
   "source": [
    "def remove_common_words(all_sentences):\n",
    "    for word in most_common:\n",
    "        for index in range(df.size):\n",
    "            while word in all_sentences[index]:\n",
    "                all_sentences[index].remove(word)\n",
    "                \n",
    "remove_common_words(all_sentences)"
   ]
  },
  {
   "cell_type": "markdown",
   "id": "deluxe-billy",
   "metadata": {},
   "source": [
    "### Odstranění tzv. stopwords"
   ]
  },
  {
   "cell_type": "code",
   "execution_count": 9,
   "id": "honest-boutique",
   "metadata": {},
   "outputs": [],
   "source": [
    "stopwords = pd.read_json(\"stop_words_czech.json\")\n",
    "\n",
    "for i in range(stopwords.size):\n",
    "    stopwords.iloc[i,0] = deaccent(stopwords.iloc[i,0])\n",
    "    \n",
    "for i in range(stopwords.size):\n",
    "    most_common.append(stopwords.iloc[i,0])"
   ]
  },
  {
   "cell_type": "code",
   "execution_count": 10,
   "id": "previous-overall",
   "metadata": {},
   "outputs": [],
   "source": [
    "remove_common_words(all_sentences)"
   ]
  },
  {
   "cell_type": "code",
   "execution_count": 11,
   "id": "unusual-blowing",
   "metadata": {},
   "outputs": [],
   "source": [
    "frequency_aft = frequent(all_sentences)"
   ]
  },
  {
   "cell_type": "code",
   "execution_count": 12,
   "id": "square-sentence",
   "metadata": {},
   "outputs": [
    {
     "name": "stdout",
     "output_type": "stream",
     "text": [
      "\n",
      "Number of characters in all_sentences: 2897666 \n",
      "Number of characters after removing most_common: 1737029 \n",
      "Difference: 1160637\n"
     ]
    }
   ],
   "source": [
    "x=0\n",
    "y=0\n",
    "\n",
    "for value in frequency_bef.values():\n",
    "    x += value\n",
    "for value in frequency_aft.values():\n",
    "    y += value\n",
    "\n",
    "print(\"\\nNumber of characters in all_sentences:\",x,\"\\nNumber of characters after removing most_common:\",y,\n",
    "      \"\\nDifference:\",x-y)"
   ]
  },
  {
   "cell_type": "markdown",
   "id": "global-extraction",
   "metadata": {},
   "source": [
    "# Word2Vec - knihovna gensim"
   ]
  },
  {
   "cell_type": "code",
   "execution_count": 13,
   "id": "prime-velvet",
   "metadata": {},
   "outputs": [],
   "source": [
    "from gensim.models import Word2Vec\n",
    "\n",
    "word2vec = Word2Vec(all_sentences, size=200, min_count=5, window=10)"
   ]
  },
  {
   "cell_type": "code",
   "execution_count": 14,
   "id": "affiliated-luther",
   "metadata": {},
   "outputs": [],
   "source": [
    "vocabulary = word2vec.wv.vocab"
   ]
  },
  {
   "cell_type": "markdown",
   "id": "underlying-baltimore",
   "metadata": {},
   "source": [
    "### Slovo reprezentováno jako vektor"
   ]
  },
  {
   "cell_type": "code",
   "execution_count": 15,
   "id": "sustained-function",
   "metadata": {},
   "outputs": [
    {
     "data": {
      "text/plain": [
       "array([ 9.99518670e-03, -1.56774163e-01, -2.10363537e-01,  1.78140938e-01,\n",
       "        6.12396002e-02, -8.18592533e-02,  2.75070239e-02, -1.41844869e-01,\n",
       "        8.11821520e-02,  4.08635363e-02, -1.84148237e-01, -1.72700316e-01,\n",
       "       -2.52995968e-01,  6.01946227e-02, -1.39390260e-01,  1.20326513e-02,\n",
       "       -7.71925077e-02, -2.00754210e-01,  2.27251083e-01,  6.18844815e-02,\n",
       "       -1.62890881e-01, -9.68493298e-02, -2.46805191e-01, -2.33188152e-01,\n",
       "        2.65404224e-01,  4.17446457e-02, -1.45204276e-01, -1.21777773e-01,\n",
       "        1.71395466e-01,  3.59734930e-02, -4.85502295e-02,  5.34483939e-02,\n",
       "        1.56316474e-01, -1.10934846e-01, -1.12393945e-01, -1.46192700e-01,\n",
       "        1.48919448e-01,  7.05435500e-02,  8.10600258e-03,  1.08697675e-01,\n",
       "        4.78863195e-02, -1.46531284e-01,  7.37181902e-02, -1.32097146e-02,\n",
       "       -3.01055163e-02,  3.67280073e-03,  1.14617996e-01,  1.90832481e-01,\n",
       "        1.30836636e-01, -8.33729804e-02,  1.59014702e-01, -7.93044120e-02,\n",
       "        1.33178830e-01,  1.48291454e-01, -1.58806086e-01, -8.48921984e-02,\n",
       "        1.90494361e-03,  7.05369934e-02,  3.13726187e-01,  5.32233296e-03,\n",
       "       -5.78127317e-02,  1.99655190e-01, -2.58038610e-01,  1.45288914e-01,\n",
       "       -1.05535619e-01, -9.91989151e-02,  9.07795224e-03, -6.48683384e-02,\n",
       "       -4.18379195e-02,  3.25850174e-02,  1.31248254e-02, -5.86583354e-02,\n",
       "       -5.39718429e-03,  1.00205854e-01, -1.07344836e-01, -5.58284670e-02,\n",
       "        9.20237526e-02, -6.63754623e-03, -1.23641016e-02,  1.35644883e-01,\n",
       "       -1.80428356e-01,  5.03721684e-02, -1.72553822e-01, -6.74088076e-02,\n",
       "       -1.32950544e-01, -9.58923995e-03,  5.24710603e-02, -1.45030603e-01,\n",
       "        2.04263330e-02,  9.86907780e-02, -3.95602137e-02, -2.24993020e-01,\n",
       "       -1.81009304e-02, -7.63913915e-02, -5.18558696e-02,  9.92144551e-03,\n",
       "       -5.34608960e-02, -6.29984960e-02, -2.93396451e-02, -1.60488293e-01,\n",
       "        1.85682714e-01, -3.51922028e-02,  7.68044442e-02,  2.36874335e-02,\n",
       "       -1.22365184e-01,  7.17598125e-02,  2.63550967e-01, -3.42263803e-02,\n",
       "       -2.19756916e-01, -5.23489118e-02,  1.76612690e-01,  1.55914454e-02,\n",
       "       -1.10773295e-01,  1.08523760e-02, -1.58698298e-02, -2.25510925e-01,\n",
       "       -1.29108712e-01, -3.92387360e-02,  3.95062000e-01,  1.60243168e-01,\n",
       "       -2.30395451e-01, -1.23705886e-01, -1.31703019e-01,  4.51120436e-02,\n",
       "        1.40396088e-01, -7.29127675e-02,  1.46148959e-03, -1.15453213e-01,\n",
       "       -4.54982184e-02, -4.58617471e-02, -2.31721684e-01, -9.03582722e-02,\n",
       "       -3.81177925e-02, -7.83103853e-02, -2.15237625e-02, -1.85296088e-01,\n",
       "       -6.91820681e-02, -1.54982522e-01,  8.00039805e-03, -3.75624090e-01,\n",
       "       -1.35191336e-01, -2.87636161e-01, -1.53805107e-01,  9.45974048e-03,\n",
       "       -2.01073866e-02,  1.28548801e-01, -1.12854391e-01,  2.68106833e-02,\n",
       "        1.02900445e-01, -1.61143750e-01, -1.25749573e-01,  2.51891483e-02,\n",
       "       -6.92447275e-02,  1.51298255e-01,  1.99736074e-01,  1.07353702e-01,\n",
       "       -2.25929394e-01, -1.23544522e-01, -4.33591716e-02,  1.83471888e-02,\n",
       "        2.01791361e-01,  2.82775134e-01, -4.93316092e-02,  1.07563868e-01,\n",
       "       -1.38571057e-02,  1.20951451e-01, -3.51419847e-04, -2.78458267e-01,\n",
       "       -1.40873538e-02, -2.36300707e-01, -4.63444069e-02,  1.16259031e-01,\n",
       "        4.28184718e-02, -1.91821605e-01, -6.29540673e-03,  5.05147316e-02,\n",
       "       -8.01335424e-02, -1.16709203e-01, -1.50982961e-02, -6.45124391e-02,\n",
       "        2.74373405e-02, -7.97941014e-02, -1.06520690e-01,  6.85873777e-02,\n",
       "        2.79001761e-02, -1.92576107e-02,  8.78159702e-02, -7.91722164e-02,\n",
       "       -1.11198708e-01, -2.47818567e-02, -2.23889295e-02, -5.61962016e-02,\n",
       "        2.00508177e-01, -9.06517655e-02,  8.69163405e-03,  1.53540879e-01,\n",
       "        1.40475899e-01,  6.95229769e-02,  2.12903231e-01,  2.87100617e-02],\n",
       "      dtype=float32)"
      ]
     },
     "execution_count": 15,
     "metadata": {},
     "output_type": "execute_result"
    }
   ],
   "source": [
    "word2vec.wv['zeman']"
   ]
  },
  {
   "cell_type": "markdown",
   "id": "missing-malawi",
   "metadata": {},
   "source": [
    "### Nalezení n nejpodobnějších slov"
   ]
  },
  {
   "cell_type": "code",
   "execution_count": 16,
   "id": "understanding-trade",
   "metadata": {},
   "outputs": [
    {
     "name": "stdout",
     "output_type": "stream",
     "text": [
      "> Miloš\n"
     ]
    },
    {
     "data": {
      "text/plain": [
       "[('zeman', 0.9426842331886292),\n",
       " ('bohuslav', 0.9029508233070374),\n",
       " ('napsal', 0.8974103927612305),\n",
       " ('masaryk', 0.8768518567085266),\n",
       " ('prohlasil', 0.867906928062439),\n",
       " ('primator', 0.8656466007232666),\n",
       " ('stal', 0.8569535613059998),\n",
       " ('miroslav', 0.8561363816261292),\n",
       " ('podepsal', 0.8503516912460327),\n",
       " ('tvrdil', 0.8493710160255432)]"
      ]
     },
     "execution_count": 16,
     "metadata": {},
     "output_type": "execute_result"
    }
   ],
   "source": [
    "search_word = input(\"> \")\n",
    "word2vec.wv.most_similar(deaccent(search_word).lower())"
   ]
  },
  {
   "cell_type": "code",
   "execution_count": 17,
   "id": "expected-pickup",
   "metadata": {},
   "outputs": [
    {
     "name": "stdout",
     "output_type": "stream",
     "text": [
      "> Zeman\n"
     ]
    },
    {
     "data": {
      "text/plain": [
       "[('milos', 0.9426842331886292),\n",
       " ('miroslav', 0.909707248210907),\n",
       " ('masaryk', 0.892728328704834),\n",
       " ('tvrdil', 0.8904792070388794),\n",
       " ('bohuslav', 0.887295126914978),\n",
       " ('sobotka', 0.8868386745452881),\n",
       " ('garrigue', 0.8834864497184753),\n",
       " ('podepsal', 0.8725541830062866),\n",
       " ('stal', 0.8670616149902344),\n",
       " ('exministr', 0.8664671182632446)]"
      ]
     },
     "execution_count": 17,
     "metadata": {},
     "output_type": "execute_result"
    }
   ],
   "source": [
    "search_word = input(\"> \")\n",
    "word2vec.wv.most_similar(deaccent(search_word).lower())"
   ]
  },
  {
   "cell_type": "code",
   "execution_count": 18,
   "id": "strong-shepherd",
   "metadata": {},
   "outputs": [
    {
     "name": "stdout",
     "output_type": "stream",
     "text": [
      "> TOP\n"
     ]
    },
    {
     "data": {
      "text/plain": [
       "[('ods', 0.9571278691291809),\n",
       " ('poslaneckeho', 0.9429056644439697),\n",
       " ('stan', 0.9375035166740417),\n",
       " ('piratu', 0.9292595386505127),\n",
       " ('kscm', 0.9281211495399475),\n",
       " ('klubu', 0.9237409830093384),\n",
       " ('klub', 0.9017151594161987),\n",
       " ('jmenem', 0.8877667784690857),\n",
       " ('poslaneckych', 0.869156539440155),\n",
       " ('cssd', 0.8651964068412781)]"
      ]
     },
     "execution_count": 18,
     "metadata": {},
     "output_type": "execute_result"
    }
   ],
   "source": [
    "search_word = input(\"> \")\n",
    "word2vec.wv.most_similar(deaccent(search_word).lower())"
   ]
  },
  {
   "cell_type": "code",
   "execution_count": 19,
   "id": "heavy-waste",
   "metadata": {
    "scrolled": true
   },
   "outputs": [
    {
     "name": "stdout",
     "output_type": "stream",
     "text": [
      "> ANO\n"
     ]
    },
    {
     "data": {
      "text/plain": [
       "[('cssd', 0.7866946458816528),\n",
       " ('hnuti', 0.7783950567245483),\n",
       " ('komunistu', 0.7622459530830383),\n",
       " ('jednotni', 0.7269113659858704),\n",
       " ('kscm', 0.7230626940727234),\n",
       " ('asocialni', 0.7130089998245239),\n",
       " ('pravda', 0.7061961889266968),\n",
       " ('ods', 0.6985846757888794),\n",
       " ('lavic', 0.6962398886680603),\n",
       " ('prednaset', 0.6937940120697021)]"
      ]
     },
     "execution_count": 19,
     "metadata": {},
     "output_type": "execute_result"
    }
   ],
   "source": [
    "search_word = input(\"> \")\n",
    "word2vec.wv.most_similar(deaccent(search_word).lower())"
   ]
  }
 ],
 "metadata": {
  "kernelspec": {
   "display_name": "Python 3",
   "language": "python",
   "name": "python3"
  },
  "language_info": {
   "codemirror_mode": {
    "name": "ipython",
    "version": 3
   },
   "file_extension": ".py",
   "mimetype": "text/x-python",
   "name": "python",
   "nbconvert_exporter": "python",
   "pygments_lexer": "ipython3",
   "version": "3.8.5"
  }
 },
 "nbformat": 4,
 "nbformat_minor": 5
}
