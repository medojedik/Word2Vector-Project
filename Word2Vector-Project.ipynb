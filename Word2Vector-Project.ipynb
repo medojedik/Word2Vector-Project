{
 "cells": [
  {
   "cell_type": "markdown",
   "id": "strange-freedom",
   "metadata": {},
   "source": [
    "## Importování dat"
   ]
  },
  {
   "cell_type": "code",
   "execution_count": 1,
   "id": "distributed-tyler",
   "metadata": {},
   "outputs": [
    {
     "data": {
      "text/html": [
       "<div>\n",
       "<style scoped>\n",
       "    .dataframe tbody tr th:only-of-type {\n",
       "        vertical-align: middle;\n",
       "    }\n",
       "\n",
       "    .dataframe tbody tr th {\n",
       "        vertical-align: top;\n",
       "    }\n",
       "\n",
       "    .dataframe thead th {\n",
       "        text-align: right;\n",
       "    }\n",
       "</style>\n",
       "<table border=\"1\" class=\"dataframe\">\n",
       "  <thead>\n",
       "    <tr style=\"text-align: right;\">\n",
       "      <th></th>\n",
       "      <th>Line</th>\n",
       "    </tr>\n",
       "  </thead>\n",
       "  <tbody>\n",
       "    <tr>\n",
       "      <th>0</th>\n",
       "      <td>já,vám,děkuji,dále,se,hlásil,pan,předseda,kalo...</td>\n",
       "    </tr>\n",
       "    <tr>\n",
       "      <th>1</th>\n",
       "      <td>děkuji,dámy,pánové,promiňte,pokládám,za,vhodné...</td>\n",
       "    </tr>\n",
       "    <tr>\n",
       "      <th>2</th>\n",
       "      <td>děkuji,další,pořadí,je,přihlášen,pan,předseda,...</td>\n",
       "    </tr>\n",
       "    <tr>\n",
       "      <th>3</th>\n",
       "      <td>děkuji,za,potlesk,za,slovo,pane,předsedo,hezké...</td>\n",
       "    </tr>\n",
       "    <tr>\n",
       "      <th>4</th>\n",
       "      <td>děkuji,teď,tam,bylo,několik,rychlých,přihlášek...</td>\n",
       "    </tr>\n",
       "  </tbody>\n",
       "</table>\n",
       "</div>"
      ],
      "text/plain": [
       "                                                Line\n",
       "0  já,vám,děkuji,dále,se,hlásil,pan,předseda,kalo...\n",
       "1  děkuji,dámy,pánové,promiňte,pokládám,za,vhodné...\n",
       "2  děkuji,další,pořadí,je,přihlášen,pan,předseda,...\n",
       "3  děkuji,za,potlesk,za,slovo,pane,předsedo,hezké...\n",
       "4  děkuji,teď,tam,bylo,několik,rychlých,přihlášek..."
      ]
     },
     "execution_count": 1,
     "metadata": {},
     "output_type": "execute_result"
    }
   ],
   "source": [
    "import pandas as pd\n",
    "\n",
    "df = pd.read_csv('psp_records_list.csv')\n",
    "df.head()"
   ]
  },
  {
   "cell_type": "markdown",
   "id": "attached-drilling",
   "metadata": {},
   "source": [
    "## Zbavení se diakritky"
   ]
  },
  {
   "cell_type": "code",
   "execution_count": 2,
   "id": "oriental-letters",
   "metadata": {},
   "outputs": [],
   "source": [
    "import unicodedata\n",
    "\n",
    "def deaccent(unistr):\n",
    "    return \"\".join(aChar \n",
    "                   for aChar in unicodedata.normalize(\"NFD\", unistr) \n",
    "                   if not unicodedata.combining(aChar))\n",
    "\n",
    "for i in range(df.size-1):\n",
    "    df.iloc[i,0] = deaccent(df.iloc[i,0])"
   ]
  },
  {
   "cell_type": "markdown",
   "id": "expired-maple",
   "metadata": {},
   "source": [
    "## List of lists"
   ]
  },
  {
   "cell_type": "code",
   "execution_count": 3,
   "id": "inappropriate-input",
   "metadata": {},
   "outputs": [],
   "source": [
    "# Listy vět sestavené z jednotlivých slov\n",
    "\n",
    "def get_sentences(df):\n",
    "    all_sentences = df.values.tolist()\n",
    "    all_s = []\n",
    "    for index in range(0,df.size-1):\n",
    "        all_s.append(all_sentences[index][0].split(',')) \n",
    "    return all_s\n",
    "\n",
    "all_sentences = get_sentences(df)"
   ]
  },
  {
   "cell_type": "markdown",
   "id": "global-extraction",
   "metadata": {},
   "source": [
    "# Word2Vec - knihovna gensim"
   ]
  },
  {
   "cell_type": "code",
   "execution_count": 4,
   "id": "prime-velvet",
   "metadata": {},
   "outputs": [],
   "source": [
    "from gensim.models import Word2Vec\n",
    "\n",
    "word2vec = Word2Vec(all_sentences, size=200, min_count=5, window=5)"
   ]
  },
  {
   "cell_type": "code",
   "execution_count": 5,
   "id": "affiliated-luther",
   "metadata": {},
   "outputs": [],
   "source": [
    "vocabulary = word2vec.wv.vocab"
   ]
  },
  {
   "cell_type": "markdown",
   "id": "underlying-baltimore",
   "metadata": {},
   "source": [
    "### Slovo reprezentováno jako vektor"
   ]
  },
  {
   "cell_type": "code",
   "execution_count": 6,
   "id": "sustained-function",
   "metadata": {},
   "outputs": [
    {
     "data": {
      "text/plain": [
       "array([-2.07575578e-02,  6.98122829e-02,  3.41893956e-02, -2.54310131e-01,\n",
       "       -6.31965399e-02, -1.02695838e-01,  1.02118835e-01,  7.85163939e-02,\n",
       "       -2.59018272e-01,  5.49728535e-02, -7.32784718e-02, -5.27976640e-02,\n",
       "       -5.66246249e-02,  7.76708638e-03, -1.23496167e-01, -1.67733923e-01,\n",
       "       -4.52902094e-02,  4.31902446e-02,  1.85623933e-02,  2.08243518e-03,\n",
       "       -1.00735977e-01,  9.64299068e-02,  1.15324728e-01,  1.69641059e-02,\n",
       "       -3.96038666e-02, -9.29325595e-02, -1.62459895e-01, -4.94000465e-02,\n",
       "        4.02124114e-02,  1.43951386e-01,  1.09893486e-01,  4.77636792e-02,\n",
       "        7.22939475e-03,  1.51110917e-01,  1.89291015e-01, -8.34022090e-03,\n",
       "        1.41766265e-01, -1.01019852e-01,  7.08541498e-02,  3.10266435e-01,\n",
       "       -2.25122005e-01, -2.94640064e-01,  1.97147414e-01, -2.86455154e-01,\n",
       "       -6.78685680e-02,  1.33564368e-01, -1.32275060e-01, -6.21704049e-02,\n",
       "       -3.49407271e-02, -1.13695174e-01, -2.25062713e-01,  1.98793530e-01,\n",
       "       -3.17032099e-01, -3.22479419e-02, -1.41071081e-01,  1.72353297e-01,\n",
       "        2.27267500e-02, -3.17846507e-01,  1.57969579e-01,  7.54735619e-02,\n",
       "        2.46258587e-01,  3.87643799e-02,  3.38627696e-02, -2.34026253e-01,\n",
       "        6.55265450e-02, -1.89282700e-01,  2.71142632e-01, -2.67099626e-02,\n",
       "        4.65939865e-02, -1.77122965e-01, -9.56505537e-02,  1.10300437e-01,\n",
       "       -4.43121791e-02,  5.98121956e-02,  2.05006018e-01,  1.40766814e-01,\n",
       "        2.51977801e-01, -1.73805505e-01,  1.59456581e-01, -2.77598292e-01,\n",
       "       -5.84733933e-02,  1.12354934e-01,  4.92650680e-02, -2.22091749e-02,\n",
       "       -5.07051423e-02,  3.51646356e-02,  9.79244485e-02, -1.85178533e-01,\n",
       "       -2.10187268e-02,  1.22618064e-01,  1.75026536e-01,  2.25614443e-01,\n",
       "       -1.30340531e-01,  3.18803415e-02,  6.24089241e-02,  2.51722410e-02,\n",
       "       -1.97685003e-01, -2.48877808e-01,  1.06164180e-01, -4.30346318e-02,\n",
       "       -1.55167609e-01, -1.59863159e-01, -9.73608419e-02,  2.52300769e-01,\n",
       "       -5.12831733e-02,  5.29149845e-02, -4.43700179e-02, -1.20325446e-01,\n",
       "        1.49060592e-01, -2.23940611e-01, -3.62280221e-03,  7.49637261e-02,\n",
       "        1.40873231e-02, -1.39803559e-01,  8.46033394e-02, -1.32818848e-01,\n",
       "       -5.57065494e-02,  2.49422546e-02,  2.95104116e-01,  2.80401766e-01,\n",
       "       -1.31179839e-01,  2.86795139e-01, -3.19571532e-02,  6.77499622e-02,\n",
       "       -1.04520611e-01, -1.72652856e-01, -1.55995861e-01, -1.45086661e-01,\n",
       "       -4.56804596e-02,  4.32574674e-02, -1.74014568e-01,  1.92162082e-01,\n",
       "        1.34869635e-01,  4.34236050e-01, -1.22350812e-01,  9.17428806e-02,\n",
       "        1.24165062e-02,  1.83086663e-01,  1.26747444e-01, -5.87223172e-02,\n",
       "       -6.40104059e-03,  2.72252262e-02, -1.27321361e-02, -7.33066201e-02,\n",
       "        1.53249055e-01,  1.51801025e-02,  1.04058839e-01,  5.30434772e-02,\n",
       "        4.09736708e-02,  2.00097963e-01,  2.04506159e-01, -1.19856633e-01,\n",
       "        6.17038738e-03, -1.28379464e-01,  2.74128258e-01, -1.43734021e-02,\n",
       "        1.93435932e-04,  3.53023261e-01,  5.61294816e-02,  3.58935893e-02,\n",
       "        2.39830494e-01, -4.57853563e-02, -1.92056626e-01,  1.55576199e-01,\n",
       "       -1.18174203e-01,  1.05239458e-01, -5.39050624e-02,  1.47984922e-01,\n",
       "       -5.87837584e-02,  4.73897196e-02, -3.04810535e-02, -3.46993268e-01,\n",
       "        1.50656059e-01,  2.07922563e-01, -8.30499530e-02,  2.40105996e-03,\n",
       "        5.12211062e-02,  1.97609201e-01,  2.86784858e-01, -2.21850753e-01,\n",
       "       -1.52118161e-01, -1.16718285e-01, -2.51626670e-01, -1.39358803e-03,\n",
       "        1.63553789e-01,  6.57341555e-02,  2.05060348e-01,  2.97211170e-01,\n",
       "        1.19057380e-01, -2.21749172e-01, -1.66208133e-01,  1.38246492e-01,\n",
       "        8.49292800e-02, -2.01067358e-01, -3.49522084e-02,  8.85402337e-02,\n",
       "        1.24446414e-01, -1.76597551e-01,  2.73664862e-01, -1.34200171e-01],\n",
       "      dtype=float32)"
      ]
     },
     "execution_count": 6,
     "metadata": {},
     "output_type": "execute_result"
    }
   ],
   "source": [
    "word2vec.wv['zeman']"
   ]
  },
  {
   "cell_type": "markdown",
   "id": "missing-malawi",
   "metadata": {},
   "source": [
    "### Nalezení n nejpodobnějších slov"
   ]
  },
  {
   "cell_type": "code",
   "execution_count": 7,
   "id": "understanding-trade",
   "metadata": {},
   "outputs": [
    {
     "name": "stdout",
     "output_type": "stream",
     "text": [
      "> Miloš\n"
     ]
    },
    {
     "data": {
      "text/plain": [
       "[('donald', 0.8717539310455322),\n",
       " ('francouzsky', 0.8564208745956421),\n",
       " ('izraelsky', 0.8421587944030762),\n",
       " ('mirka', 0.8250343799591064),\n",
       " ('netanjahu', 0.8249973058700562),\n",
       " ('erdogan', 0.8229333162307739),\n",
       " ('belorusky', 0.8209524750709534),\n",
       " ('uznavany', 0.8208563327789307),\n",
       " ('soudruh', 0.8164420127868652),\n",
       " ('trump', 0.8150997161865234)]"
      ]
     },
     "execution_count": 7,
     "metadata": {},
     "output_type": "execute_result"
    }
   ],
   "source": [
    "search_word = input(\"> \")\n",
    "word2vec.wv.most_similar(deaccent(search_word).lower())"
   ]
  },
  {
   "cell_type": "code",
   "execution_count": 8,
   "id": "expected-pickup",
   "metadata": {},
   "outputs": [
    {
     "name": "stdout",
     "output_type": "stream",
     "text": [
      "> Zeman\n"
     ]
    },
    {
     "data": {
      "text/plain": [
       "[('miroslav', 0.8637271523475647),\n",
       " ('alexander', 0.8527714014053345),\n",
       " ('martin', 0.8504066467285156),\n",
       " ('vladimir', 0.8482733964920044),\n",
       " ('bohuslav', 0.8455539345741272),\n",
       " ('behounek', 0.8438994288444519),\n",
       " ('dusek', 0.8434661030769348),\n",
       " ('zdenek', 0.8373156785964966),\n",
       " ('marek', 0.8349500894546509),\n",
       " ('kremlik', 0.8330565690994263)]"
      ]
     },
     "execution_count": 8,
     "metadata": {},
     "output_type": "execute_result"
    }
   ],
   "source": [
    "search_word = input(\"> \")\n",
    "word2vec.wv.most_similar(deaccent(search_word).lower())"
   ]
  },
  {
   "cell_type": "code",
   "execution_count": 9,
   "id": "strong-shepherd",
   "metadata": {},
   "outputs": [
    {
     "name": "stdout",
     "output_type": "stream",
     "text": [
      "> ANO\n"
     ]
    },
    {
     "data": {
      "text/plain": [
       "[('protikorupcni', 0.6595019102096558),\n",
       " ('spd', 0.6290808916091919),\n",
       " ('cssd', 0.5923267602920532),\n",
       " ('kscm', 0.5562392473220825),\n",
       " ('trikolora', 0.53499436378479),\n",
       " ('ods', 0.5336273312568665),\n",
       " ('hnuti', 0.5240066647529602),\n",
       " ('jednotni', 0.5192619562149048),\n",
       " ('piratu', 0.5137041211128235),\n",
       " ('demokracie', 0.5110467672348022)]"
      ]
     },
     "execution_count": 9,
     "metadata": {},
     "output_type": "execute_result"
    }
   ],
   "source": [
    "search_word = input(\"> \")\n",
    "word2vec.wv.most_similar(deaccent(search_word).lower())"
   ]
  },
  {
   "cell_type": "code",
   "execution_count": 10,
   "id": "heavy-waste",
   "metadata": {},
   "outputs": [
    {
     "name": "stdout",
     "output_type": "stream",
     "text": [
      "> Top\n"
     ]
    },
    {
     "data": {
      "text/plain": [
       "[('ods', 0.9194990396499634),\n",
       " ('piratu', 0.9053436517715454),\n",
       " ('stan', 0.8882293701171875),\n",
       " ('kscm', 0.8830102682113647),\n",
       " ('kdu', 0.8753942251205444),\n",
       " ('csl', 0.8641079068183899),\n",
       " ('poslaneckeho', 0.8524936437606812),\n",
       " ('cssd', 0.8367375135421753),\n",
       " ('klub', 0.8283224105834961),\n",
       " ('klubu', 0.8022962212562561)]"
      ]
     },
     "execution_count": 10,
     "metadata": {},
     "output_type": "execute_result"
    }
   ],
   "source": [
    "search_word = input(\"> \")\n",
    "word2vec.wv.most_similar(deaccent(search_word).lower())"
   ]
  }
 ],
 "metadata": {
  "kernelspec": {
   "display_name": "Python 3",
   "language": "python",
   "name": "python3"
  },
  "language_info": {
   "codemirror_mode": {
    "name": "ipython",
    "version": 3
   },
   "file_extension": ".py",
   "mimetype": "text/x-python",
   "name": "python",
   "nbconvert_exporter": "python",
   "pygments_lexer": "ipython3",
   "version": "3.8.5"
  }
 },
 "nbformat": 4,
 "nbformat_minor": 5
}
